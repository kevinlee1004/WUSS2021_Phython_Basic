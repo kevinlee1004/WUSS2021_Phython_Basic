{
 "cells": [
  {
   "cell_type": "markdown",
   "metadata": {},
   "source": [
    "\n",
    "# Part 2 - Basic Data Wrangling and Functions/Classes\n",
    "\n",
    "- IF Statement    \n",
    "- FOR statement\n",
    "- WHILE statement\n",
    "- FUNCTION\n",
    "- CLASS\n",
    " "
   ]
  },
  {
   "cell_type": "markdown",
   "metadata": {},
   "source": [
    "## Conditional statement\n",
    "The following conditional statements that Python support\n",
    "- Equality: ==\n",
    "- Not Equal: !=\n",
    "- greater than: >\n",
    "- less than: <\n",
    "- greater than or equal to: >=\n",
    "- less than or equal to: <=\n",
    "- in: in\n",
    "- Not in: not in\n",
    "\n",
    "The followings are conditional function\n",
    "- if\n",
    "- elif: else if\n",
    "- else"
   ]
  },
  {
   "cell_type": "markdown",
   "metadata": {},
   "source": [
    "### boolean class\n",
    "It is a class of boolean (bool). <br>\n",
    "It is derived from comparison.\n",
    "\n",
    "### Difference from SAS\n",
    "- No need for semicolon for statement\n",
    "- need to include colon(:) for if, for and while statements\n",
    "- '=' means assigning the values vs '==' means the comparision"
   ]
  },
  {
   "cell_type": "code",
   "execution_count": 1,
   "metadata": {},
   "outputs": [
    {
     "name": "stdout",
     "output_type": "stream",
     "text": [
      "True\n",
      "True\n",
      "True\n",
      "<class 'bool'>\n"
     ]
    }
   ],
   "source": [
    "## Comparion\n",
    "race = 'white'  ## assigning\n",
    "print(race == 'white') ## comparison\n",
    "print(race != 'black')\n",
    "\n",
    "## assign comparison to boolean\n",
    "ans = race=='white'\n",
    "print(ans)\n",
    "print(type(ans))"
   ]
  },
  {
   "cell_type": "markdown",
   "metadata": {},
   "source": [
    "Boolean value is either True or False"
   ]
  },
  {
   "cell_type": "code",
   "execution_count": 2,
   "metadata": {},
   "outputs": [
    {
     "name": "stdout",
     "output_type": "stream",
     "text": [
      "Admission price is $20\n",
      "\n",
      "\n",
      "\n",
      "\n"
     ]
    }
   ],
   "source": [
    "## if and elif statement\n",
    "age = 13\n",
    "\n",
    "if age < 4:\n",
    "    print(\"Admisison price is $0\")\n",
    "elif age < 12:\n",
    "    print(\"Admission price is $10\")\n",
    "else:\n",
    "    print(\"Admission price is $20\")\n",
    "\n",
    "if age >5 :\n",
    "    print()\n",
    "    print()\n",
    "    print()\n",
    "print()"
   ]
  },
  {
   "cell_type": "code",
   "execution_count": 3,
   "metadata": {},
   "outputs": [
    {
     "name": "stdout",
     "output_type": "stream",
     "text": [
      "True\n",
      "<class 'bool'>\n"
     ]
    }
   ],
   "source": [
    "## Manual development of Boolean \n",
    "bool_a = True\n",
    "print(bool_a)\n",
    "print(type(bool_a))"
   ]
  },
  {
   "cell_type": "code",
   "execution_count": 4,
   "metadata": {},
   "outputs": [
    {
     "name": "stdout",
     "output_type": "stream",
     "text": [
      "The age of 5 is a correct age\n",
      "The age of 5 is not a correct age\n",
      "He is 5 years old. He is greater than or equal to 5\n",
      "He is 5 years old. He is greater than 4\n"
     ]
    }
   ],
   "source": [
    "## comparison statements\n",
    "age = 5\n",
    "if age == 5:\n",
    "    print(\"The age of \" + str(age) + \" is a correct age\")\n",
    "\n",
    "if age != 6:\n",
    "    print(\"The age of \" + str(age) + \" is not a correct age\")\n",
    "    \n",
    "if age >= 5:\n",
    "    print(\"He is \" + str(age) + \" years old. He is greater than or equal to 5\")\n",
    "    \n",
    "if age > 4:\n",
    "    print(\"He is \" + str(age) + \" years old. He is greater than 4\")"
   ]
  },
  {
   "cell_type": "code",
   "execution_count": 5,
   "metadata": {},
   "outputs": [
    {
     "name": "stdout",
     "output_type": "stream",
     "text": [
      "No Value\n",
      "height\n",
      "blood pressure\n"
     ]
    }
   ],
   "source": [
    "## use \"in\" comparision and list class\n",
    "list_vital = ['weight','blood pressure','height']\n",
    "\n",
    "if 'weights' in list_vital:\n",
    "    print('weight')\n",
    "else:\n",
    "    print('No Value')\n",
    "if 'height' in list_vital:\n",
    "    print('height')\n",
    "if 'blood pressure' in list_vital:\n",
    "    print('blood pressure')"
   ]
  },
  {
   "cell_type": "code",
   "execution_count": 6,
   "metadata": {},
   "outputs": [
    {
     "name": "stdout",
     "output_type": "stream",
     "text": [
      "weight\n",
      "height\n",
      "blood pressure\n"
     ]
    }
   ],
   "source": [
    "### use tuple class\n",
    "list_vital = ('weight','blood pressure','height')\n",
    "\n",
    "if 'weight' in list_vital:\n",
    "    print('weight')\n",
    "if 'height' in list_vital:\n",
    "    print('height')\n",
    "if 'blood pressure' in list_vital:\n",
    "    print('blood pressure')"
   ]
  },
  {
   "cell_type": "code",
   "execution_count": 7,
   "metadata": {},
   "outputs": [
    {
     "name": "stdout",
     "output_type": "stream",
     "text": [
      "weight\n"
     ]
    }
   ],
   "source": [
    "### use tuple class\n",
    "#list_vital = ('weight','blood pressure','height')\n",
    "\n",
    "if 'weight' in ['weight','blood pressure','height']:\n",
    "    print('weight')\n"
   ]
  },
  {
   "cell_type": "markdown",
   "metadata": {},
   "source": [
    "## For statement\n",
    "\"for\" loop is used for iterating over sequence (list, tuple, set, dictionary, or string)"
   ]
  },
  {
   "cell_type": "code",
   "execution_count": 8,
   "metadata": {},
   "outputs": [
    {
     "name": "stdout",
     "output_type": "stream",
     "text": [
      "mild\n",
      "moderate\n",
      "severe\n"
     ]
    }
   ],
   "source": [
    "## using FOR loops with list\n",
    "CT_AESEV = ['mild', 'moderate', 'severe']\n",
    "for ct in CT_AESEV:\n",
    "    print(ct)"
   ]
  },
  {
   "cell_type": "code",
   "execution_count": 9,
   "metadata": {},
   "outputs": [
    {
     "name": "stdout",
     "output_type": "stream",
     "text": [
      "Key: subjid\n",
      "Value: 001-002\n",
      "Key: sex\n",
      "Value: female\n",
      "Key: race\n",
      "Value: asian\n"
     ]
    }
   ],
   "source": [
    "## For loop for dictionary\n",
    "subject3 = {'subjid': '001-002', 'sex':'female', 'race':'asian'}\n",
    "for key, value in subject3.items():\n",
    "    print(\"Key: \" + key)\n",
    "    print(\"Value: \" + value)"
   ]
  },
  {
   "cell_type": "code",
   "execution_count": 10,
   "metadata": {},
   "outputs": [
    {
     "name": "stdout",
     "output_type": "stream",
     "text": [
      "Key: subjid\n",
      "Value: 001-002\n",
      "Key: sex\n",
      "Value: female\n",
      "Key: race\n",
      "Value: asian\n"
     ]
    }
   ],
   "source": [
    "## For loop for dictionary\n",
    "subject3 = {'subjid': '001-002', 'sex':'female', 'race':'asian'}\n",
    "for n, ran in subject3.items():\n",
    "    print(\"Key: \" + n)\n",
    "    print(\"Value: \" + ran)"
   ]
  },
  {
   "cell_type": "markdown",
   "metadata": {},
   "source": [
    "## While statement\n",
    "\"for\" loop goes through a collection of items and executes codes for each items. \n",
    "\"while\" loop runs as long as a certain condition is met."
   ]
  },
  {
   "cell_type": "code",
   "execution_count": 11,
   "metadata": {},
   "outputs": [
    {
     "name": "stdout",
     "output_type": "stream",
     "text": [
      "5\n",
      "4\n",
      "3\n",
      "2\n",
      "1\n"
     ]
    }
   ],
   "source": [
    "## example of while statement\n",
    "num = 5\n",
    "while num != 0:\n",
    "    print(num)\n",
    "    num -= 1\n",
    "    "
   ]
  },
  {
   "attachments": {
    "image.png": {
     "image/png": "[encoded data removed]"
    }
   },
   "cell_type": "markdown",
   "metadata": {},
   "source": [
    "### Combining for loop and if statement\n",
    "![image.png](attachment:image.png)"
   ]
  },
  {
   "cell_type": "code",
   "execution_count": 12,
   "metadata": {},
   "outputs": [
    {
     "data": {
      "text/plain": [
       "[0, 4, 16, 36, 64]"
      ]
     },
     "execution_count": 12,
     "metadata": {},
     "output_type": "execute_result"
    }
   ],
   "source": [
    "g = [x**2 for x in range(10) if x %2 ==0]\n",
    "g"
   ]
  },
  {
   "cell_type": "code",
   "execution_count": 13,
   "metadata": {},
   "outputs": [
    {
     "data": {
      "text/plain": [
       "[0, 4, 16, 36, 64]"
      ]
     },
     "execution_count": 13,
     "metadata": {},
     "output_type": "execute_result"
    }
   ],
   "source": [
    "g2 = []\n",
    "for x2 in range(10):\n",
    "    if x2 % 2 == 0:\n",
    "        g2.append(x2**2)\n",
    "g2"
   ]
  },
  {
   "cell_type": "markdown",
   "metadata": {},
   "source": [
    "## Functions\n",
    "Functions in Python are the assigned blocks of codes that are designed to do a certain specific job. \n",
    "\n",
    "Its structure is <br>\n",
    "def name(arguments): <br>\n",
    "    codes  <br>\n",
    "    \n",
    "    return values <br> \n",
    "    \n",
    "name(arguments)"
   ]
  },
  {
   "cell_type": "code",
   "execution_count": 14,
   "metadata": {},
   "outputs": [],
   "source": [
    "## simple function\n",
    "def print_hello():\n",
    "    print(\"Hello\")\n"
   ]
  },
  {
   "cell_type": "code",
   "execution_count": 15,
   "metadata": {},
   "outputs": [
    {
     "name": "stdout",
     "output_type": "stream",
     "text": [
      "9\n"
     ]
    }
   ],
   "source": [
    "## simple function\n",
    "def square_fun(x):\n",
    "    x2 = x*x\n",
    "    return x2\n",
    "\n",
    "a = square_fun(3)\n",
    "print(a)"
   ]
  },
  {
   "cell_type": "code",
   "execution_count": 16,
   "metadata": {},
   "outputs": [
    {
     "name": "stdout",
     "output_type": "stream",
     "text": [
      "Hello\n"
     ]
    }
   ],
   "source": [
    "print_hello()"
   ]
  },
  {
   "cell_type": "code",
   "execution_count": 17,
   "metadata": {},
   "outputs": [],
   "source": [
    "## using arguments in function\n",
    "def print_name(name):\n",
    "    print(\"Hello, \" + name)"
   ]
  },
  {
   "cell_type": "code",
   "execution_count": 18,
   "metadata": {
    "scrolled": true
   },
   "outputs": [
    {
     "name": "stdout",
     "output_type": "stream",
     "text": [
      "Hello, Kevin\n"
     ]
    }
   ],
   "source": [
    "print_name('Kevin')"
   ]
  },
  {
   "cell_type": "code",
   "execution_count": 19,
   "metadata": {},
   "outputs": [
    {
     "name": "stdout",
     "output_type": "stream",
     "text": [
      "Hello, Mary\n"
     ]
    }
   ],
   "source": [
    "print_name(name='Mary')"
   ]
  },
  {
   "cell_type": "code",
   "execution_count": 20,
   "metadata": {},
   "outputs": [],
   "source": [
    "## Returning values \n",
    "def ae_sev(ae_sev_code):\n",
    "    ct_aesev_conv = {1:'mild', 2:'moderate', 3:'severe'}\n",
    "    ae_sev = \"Not Available\"\n",
    "    \n",
    "    for key, value in ct_aesev_conv.items():\n",
    "        if ae_sev_code == key:\n",
    "            ae_sev = value\n",
    "    return ae_sev\n",
    "\n",
    "    "
   ]
  },
  {
   "cell_type": "code",
   "execution_count": 21,
   "metadata": {},
   "outputs": [
    {
     "name": "stdout",
     "output_type": "stream",
     "text": [
      "mild\n",
      "Not Available\n"
     ]
    }
   ],
   "source": [
    "## call ae_sev function\n",
    "AESEV = ae_sev(1)\n",
    "print(AESEV)\n",
    "\n",
    "AESEV = ae_sev(5)\n",
    "print(AESEV)"
   ]
  },
  {
   "attachments": {
    "image.png": {
     "image/png": "[encoded data removed]"
    }
   },
   "cell_type": "markdown",
   "metadata": {},
   "source": [
    "### import function from modules\n",
    "Call other python program to import the function \n",
    "![image.png](attachment:image.png)"
   ]
  },
  {
   "cell_type": "code",
   "execution_count": 22,
   "metadata": {},
   "outputs": [],
   "source": [
    "## importing entire module of utility.py in the same directory\n",
    "import utility"
   ]
  },
  {
   "cell_type": "code",
   "execution_count": 23,
   "metadata": {},
   "outputs": [
    {
     "name": "stdout",
     "output_type": "stream",
     "text": [
      "You are  Mindy .\n"
     ]
    }
   ],
   "source": [
    "utility.print_function(\"Mindy\")"
   ]
  },
  {
   "cell_type": "code",
   "execution_count": 24,
   "metadata": {},
   "outputs": [
    {
     "name": "stdout",
     "output_type": "stream",
     "text": [
      "You are  Steve .\n"
     ]
    }
   ],
   "source": [
    "## using alias from module\n",
    "import utility as ut\n",
    "ut.print_function(\"Steve\")"
   ]
  },
  {
   "cell_type": "code",
   "execution_count": 25,
   "metadata": {},
   "outputs": [
    {
     "name": "stdout",
     "output_type": "stream",
     "text": [
      "You are  Phil .\n"
     ]
    }
   ],
   "source": [
    "## importing specific functions from module\n",
    "from utility import print_function\n",
    "print_function(\"Phil\")"
   ]
  },
  {
   "cell_type": "code",
   "execution_count": 26,
   "metadata": {},
   "outputs": [
    {
     "name": "stdout",
     "output_type": "stream",
     "text": [
      "You are  Mary .\n"
     ]
    }
   ],
   "source": [
    "## importing all functions from module\n",
    "from utility import *\n",
    "print_function(\"Mary\")"
   ]
  },
  {
   "cell_type": "markdown",
   "metadata": {},
   "source": [
    "## Lambda - anonymous function (a function without the name)"
   ]
  },
  {
   "cell_type": "code",
   "execution_count": 27,
   "metadata": {},
   "outputs": [
    {
     "name": "stdout",
     "output_type": "stream",
     "text": [
      "81\n",
      "<class 'function'>\n"
     ]
    }
   ],
   "source": [
    "## normal function\n",
    "def sqrt(x):\n",
    "    return x*x\n",
    "print(sqrt(9))\n",
    "print(type(sqrt))"
   ]
  },
  {
   "cell_type": "code",
   "execution_count": 28,
   "metadata": {},
   "outputs": [
    {
     "name": "stdout",
     "output_type": "stream",
     "text": [
      "81\n"
     ]
    },
    {
     "data": {
      "text/plain": [
       "function"
      ]
     },
     "execution_count": 28,
     "metadata": {},
     "output_type": "execute_result"
    }
   ],
   "source": [
    "sqrt2 = lambda x: x*x\n",
    "print(sqrt2(9))\n",
    "type(sqrt2)"
   ]
  },
  {
   "cell_type": "markdown",
   "metadata": {},
   "source": [
    "### difference between function and lambda\n",
    "- function need function name and need to pass value and need return statement\n",
    "- lambda can be anywhere.  It is simple. \n",
    "\n",
    "### The main ways lambda expressions are different from function (def ):\n",
    "\n",
    "- They can be immediately passed around (no variable needed)\n",
    "- They can only have a single line of code within them\n",
    "- They return automatically\n",
    "- They can’t have a docstring and they don’t have a name\n",
    "- They use a different and unfamiliar syntax"
   ]
  },
  {
   "cell_type": "code",
   "execution_count": 29,
   "metadata": {},
   "outputs": [
    {
     "name": "stdout",
     "output_type": "stream",
     "text": [
      "Original List a         :  [(4, 2), (2, 1), (9, 10), (13, -3)]\n",
      "List a after sort method:  [(2, 1), (4, 2), (9, 10), (13, -3)]\n",
      "<class 'list'>\n",
      "List a after sort method:  [(13, -3), (9, 10), (4, 2), (2, 1)]\n"
     ]
    }
   ],
   "source": [
    "a = [(4, 2), (2, 1), (9, 10), (13, -3)]\n",
    "print(\"Original List a         : \", a)\n",
    "\n",
    "## After sorting list method\n",
    "a.sort()   ## list.sort(reverse = True/False, key=Func )\n",
    "print(\"List a after sort method: \",a)\n",
    "print(type(a))\n",
    "a.sort(reverse=True)\n",
    "print(\"List a after sort method: \",a)"
   ]
  },
  {
   "cell_type": "code",
   "execution_count": 30,
   "metadata": {},
   "outputs": [
    {
     "name": "stdout",
     "output_type": "stream",
     "text": [
      "\n",
      "List a after sortSecond function:  [(13, -3), (2, 1), (4, 2), (9, 10)]\n"
     ]
    }
   ],
   "source": [
    "## pick up the second value in each tuple \n",
    "def sortSecond(val): \n",
    "    return val[1] \n",
    "\n",
    "## sort using function\n",
    "## list.sort(reverse=True|False, key=myFunc)\n",
    "a.sort(key= sortSecond) # sortSecond function dictate sort method to sort the second item of each tuplip\n",
    "print(\"\\nList a after sortSecond function: \",a)"
   ]
  },
  {
   "cell_type": "raw",
   "metadata": {},
   "source": [
    "## Each iteration\n",
    "a.sort()\n",
    "for i in a:\n",
    "    print(\"Each iteration item : \", i)\n",
    "    print(\"Each iteration result : \", sortSecond(i))"
   ]
  },
  {
   "cell_type": "code",
   "execution_count": 31,
   "metadata": {},
   "outputs": [
    {
     "name": "stdout",
     "output_type": "stream",
     "text": [
      "List a after sort method:  [(2, 1), (4, 2), (9, 10), (13, -3)]\n",
      "\n",
      "new sorted a using lambda:  [(13, -3), (2, 1), (4, 2), (9, 10)]\n"
     ]
    }
   ],
   "source": [
    "## sort using lambda\n",
    "a.sort()\n",
    "print(\"List a after sort method: \", a)\n",
    "a.sort(key = lambda x: x[1])  ## This lamda function ask to sort the second iteam of tulip\n",
    "print(\"\\nnew sorted a using lambda: \",a)"
   ]
  },
  {
   "attachments": {
    "image.png": {
     "image/png": "[encoded data removed]"
    }
   },
   "cell_type": "markdown",
   "metadata": {},
   "source": [
    "## Class\n",
    "Class is a object that binds data and functionality together.  \n",
    "Class object supports attribute references, method and instaniation.\n",
    "- attribute (data): the attribute of Class\n",
    "- method : function of Class\n",
    "- instance: create new object from Class\n",
    "\n",
    "Its main structure: <br>\n",
    "class my_class(): <br>\n",
    "&emsp; def __ int__(self, ,,): ## Attributes Creation <br>\n",
    "&emsp;&emsp;        statements<br>\n",
    "&emsp;    def my_method(): ## Methods Creation <br>\n",
    "&emsp;&emsp;        statements <br>\n",
    "\n",
    "![image.png](attachment:image.png)"
   ]
  },
  {
   "cell_type": "raw",
   "metadata": {},
   "source": [
    "## create my_class class object\n",
    "class my_class():\n",
    "    i = 1"
   ]
  },
  {
   "cell_type": "raw",
   "metadata": {},
   "source": [
    "## print attribute of my_class class\n",
    "print(my_class.i)\n",
    "\n",
    "## create instance from my_class class\n",
    "mine = my_class ## create instance from class\n",
    "print(\"Type of my class class : \", type(my_class))\n",
    "print(\"Type of mine instance : \", type(mine))\n",
    "print(mine.i)"
   ]
  },
  {
   "cell_type": "code",
   "execution_count": 32,
   "metadata": {},
   "outputs": [],
   "source": [
    "## Create class object with attribute and method\n",
    "class my_class2():\n",
    "    def __init__(self, name, course):  ## Attribute- \"self\" will enable all the attributes can be used in all other functions(method)\n",
    "        self.name = name\n",
    "        self.course = course\n",
    "    \n",
    "    def print_report(self): ## method( a function that's part of a class). \"self\" can call all the attributes \n",
    "        print(\"Your name is \", self.name)\n",
    "        print(\"You will take \", self.course)\n",
    "    "
   ]
  },
  {
   "cell_type": "code",
   "execution_count": 33,
   "metadata": {},
   "outputs": [
    {
     "name": "stdout",
     "output_type": "stream",
     "text": [
      "The attribute of instance:  John\n",
      "\n",
      "Call the method: \n",
      "Your name is  John\n",
      "You will take  Computer\n"
     ]
    }
   ],
   "source": [
    "## Use class and object (an instance of object)\n",
    "## Class - my_class2\n",
    "## object - my_intance\n",
    "my_instance = my_class2('John', 'Computer') # object - instance of Class\n",
    "print(\"The attribute of instance: \", my_instance.name)\n",
    "print(\"\\nCall the method: \")\n",
    "my_instance.print_report()"
   ]
  },
  {
   "cell_type": "code",
   "execution_count": 34,
   "metadata": {},
   "outputs": [
    {
     "name": "stdout",
     "output_type": "stream",
     "text": [
      "<class '__main__.my_class2'>\n",
      "list of attributes :  {'name': 'John', 'course': 'Computer'}\n",
      "list of attributes and methods :  ['__class__', '__delattr__', '__dict__', '__dir__', '__doc__', '__eq__', '__format__', '__ge__', '__getattribute__', '__gt__', '__hash__', '__init__', '__init_subclass__', '__le__', '__lt__', '__module__', '__ne__', '__new__', '__reduce__', '__reduce_ex__', '__repr__', '__setattr__', '__sizeof__', '__str__', '__subclasshook__', '__weakref__', 'course', 'name', 'print_report']\n",
      "list of attributes and methods :  {'name': 'John', 'course': 'Computer'}\n"
     ]
    }
   ],
   "source": [
    "### the information of my object\n",
    "print(type(my_instance))\n",
    "print(\"list of attributes : \", vars(my_instance)) ## list of attributes\n",
    "print(\"list of attributes and methods : \", dir(my_instance))\n",
    "\n",
    "print(\"list of attributes and methods : \", my_instance.__dict__)\n"
   ]
  },
  {
   "cell_type": "code",
   "execution_count": 35,
   "metadata": {},
   "outputs": [
    {
     "name": "stdout",
     "output_type": "stream",
     "text": [
      "<class '__main__.my_class2'>\n",
      "list of attributes :  {'name': 'John', 'course': 'Computer'}\n",
      "list of attributes and methods :  ['__class__', '__delattr__', '__dict__', '__dir__', '__doc__', '__eq__', '__format__', '__ge__', '__getattribute__', '__gt__', '__hash__', '__init__', '__init_subclass__', '__le__', '__lt__', '__module__', '__ne__', '__new__', '__reduce__', '__reduce_ex__', '__repr__', '__setattr__', '__sizeof__', '__str__', '__subclasshook__', '__weakref__', 'course', 'name', 'print_report']\n"
     ]
    }
   ],
   "source": [
    "### the information of the object\n",
    "print(type(my_instance))\n",
    "print(\"list of attributes : \", vars(my_instance)) ## list of attributes and its values\n",
    "print(\"list of attributes and methods : \", dir(my_instance))"
   ]
  },
  {
   "cell_type": "code",
   "execution_count": 36,
   "metadata": {},
   "outputs": [
    {
     "name": "stdout",
     "output_type": "stream",
     "text": [
      "<class 'list'>\n",
      "['__add__', '__class__', '__class_getitem__', '__contains__', '__delattr__', '__delitem__', '__dir__', '__doc__', '__eq__', '__format__', '__ge__', '__getattribute__', '__getitem__', '__gt__', '__hash__', '__iadd__', '__imul__', '__init__', '__init_subclass__', '__iter__', '__le__', '__len__', '__lt__', '__mul__', '__ne__', '__new__', '__reduce__', '__reduce_ex__', '__repr__', '__reversed__', '__rmul__', '__setattr__', '__setitem__', '__sizeof__', '__str__', '__subclasshook__', 'append', 'clear', 'copy', 'count', 'extend', 'index', 'insert', 'pop', 'remove', 'reverse', 'sort']\n"
     ]
    }
   ],
   "source": [
    "## Previous object List a\n",
    "a = [(4, 2), (2, 1), (9, 10), (13, -3)]\n",
    "print(type(a))\n",
    "print(dir(a))"
   ]
  },
  {
   "cell_type": "code",
   "execution_count": null,
   "metadata": {},
   "outputs": [],
   "source": []
  }
 ],
 "metadata": {
  "anaconda-cloud": {},
  "kernelspec": {
   "display_name": "Python 3",
   "language": "python",
   "name": "python3"
  },
  "language_info": {
   "codemirror_mode": {
    "name": "ipython",
    "version": 3
   },
   "file_extension": ".py",
   "mimetype": "text/x-python",
   "name": "python",
   "nbconvert_exporter": "python",
   "pygments_lexer": "ipython3",
   "version": "3.9.4"
  }
 },
 "nbformat": 4,
 "nbformat_minor": 4
}
